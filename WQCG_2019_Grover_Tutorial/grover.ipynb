{
 "cells": [
  {
   "cell_type": "markdown",
   "metadata": {},
   "source": [
    "# Grover's Search algorithm: Explanation and implementation in pyQuil\n",
    "## Warsaw Quantum Computing meeting"
   ]
  },
  {
   "cell_type": "code",
   "execution_count": null,
   "metadata": {},
   "outputs": [],
   "source": [
    "import numpy as np\n",
    "\n",
    "from pyquil import Program, get_qc\n",
    "from pyquil.gates import H, I\n",
    "from pyquil.api import WavefunctionSimulator"
   ]
  },
  {
   "cell_type": "markdown",
   "metadata": {},
   "source": [
    "### In this example we will search a string \"10\""
   ]
  },
  {
   "cell_type": "code",
   "execution_count": null,
   "metadata": {},
   "outputs": [],
   "source": [
    "SEARCHED_STRING = \"10\"\n",
    "N = len(SEARCHED_STRING)"
   ]
  },
  {
   "cell_type": "markdown",
   "metadata": {},
   "source": [
    "### Construct quantum oracle (not a part of algorithm)"
   ]
  },
  {
   "cell_type": "code",
   "execution_count": null,
   "metadata": {},
   "outputs": [],
   "source": [
    "oracle = np.zeros(shape=(2 ** N, 2 ** N))\n",
    "for b in range(2 ** N):\n",
    "    if np.binary_repr(b, N) == SEARCHED_STRING:\n",
    "        oracle[b, b] = -1\n",
    "    else:\n",
    "        oracle[b, b] = 1\n",
    "print(oracle)"
   ]
  },
  {
   "cell_type": "markdown",
   "metadata": {},
   "source": [
    "## Grover's Search Algorithm\n",
    "### Quantum Computer"
   ]
  },
  {
   "cell_type": "code",
   "execution_count": null,
   "metadata": {},
   "outputs": [],
   "source": [
    "qc = get_qc(str(N)+'q', as_qvm=True)\n",
    "gr_prog = Program()"
   ]
  },
  {
   "cell_type": "markdown",
   "metadata": {},
   "source": [
    "### $|\\psi_0 \\rangle$: Qubits initilization"
   ]
  },
  {
   "cell_type": "code",
   "execution_count": null,
   "metadata": {},
   "outputs": [],
   "source": [
    "qubits = list(reversed(qc.qubits()))\n",
    "gr_prog.inst([I(q) for q in qubits])\n",
    "print(WavefunctionSimulator().wavefunction(gr_prog))"
   ]
  },
  {
   "cell_type": "markdown",
   "metadata": {},
   "source": [
    "### $|\\psi_1 \\rangle$: Apply Hadamard gates"
   ]
  },
  {
   "cell_type": "code",
   "execution_count": null,
   "metadata": {},
   "outputs": [],
   "source": [
    "gr_prog.inst([H(q) for q in qubits])\n",
    "print(WavefunctionSimulator().wavefunction(gr_prog))"
   ]
  },
  {
   "cell_type": "markdown",
   "metadata": {},
   "source": [
    "### Define quantum oracle"
   ]
  },
  {
   "cell_type": "code",
   "execution_count": null,
   "metadata": {},
   "outputs": [],
   "source": [
    "ORACLE_GATE_NAME = \"GROVER_ORACLE\"\n",
    "gr_prog.defgate(ORACLE_GATE_NAME, oracle)"
   ]
  },
  {
   "cell_type": "markdown",
   "metadata": {},
   "source": [
    "### Define inversion around the mean"
   ]
  },
  {
   "cell_type": "code",
   "execution_count": null,
   "metadata": {},
   "outputs": [],
   "source": [
    "DIFFUSION_GATE_NAME = \"DIFFUSION\"\n",
    "diffusion = 2.0 * np.full((2**N, 2**N), 1/(2**N)) - np.eye(2**N)\n",
    "gr_prog.defgate(DIFFUSION_GATE_NAME, diffusion)"
   ]
  },
  {
   "cell_type": "markdown",
   "metadata": {},
   "source": [
    "### Number of algorithm iterations"
   ]
  },
  {
   "cell_type": "code",
   "execution_count": null,
   "metadata": {},
   "outputs": [],
   "source": [
    "N_ITER = int(np.pi / 4 * np.sqrt(2**N))\n",
    "print(N_ITER)"
   ]
  },
  {
   "cell_type": "markdown",
   "metadata": {},
   "source": [
    "### $|\\psi_3 \\rangle$: Apply Grover Operators"
   ]
  },
  {
   "cell_type": "code",
   "execution_count": null,
   "metadata": {},
   "outputs": [],
   "source": [
    "# Loop\n",
    "for i in range(N_ITER):\n",
    "    \n",
    "    # \\psi_2^i:  Apply Quantum Oracle\n",
    "    gr_prog.inst(tuple([ORACLE_GATE_NAME] + qubits))\n",
    "    print(WavefunctionSimulator().wavefunction(gr_prog))\n",
    "    \n",
    "    # \\psi_3^i:  Apply Inversion around the mean\n",
    "    gr_prog.inst(tuple([DIFFUSION_GATE_NAME] + qubits))\n",
    "    print(WavefunctionSimulator().wavefunction(gr_prog))"
   ]
  },
  {
   "cell_type": "markdown",
   "metadata": {},
   "source": [
    "### Measure"
   ]
  },
  {
   "cell_type": "code",
   "execution_count": null,
   "metadata": {},
   "outputs": [],
   "source": [
    "ro = gr_prog.declare('ro', 'BIT', N) # Classical registry storing the results\n",
    "for i, q in enumerate(qubits):\n",
    "    gr_prog.measure(q, ro[i])"
   ]
  },
  {
   "cell_type": "markdown",
   "metadata": {},
   "source": [
    "### Compile and run"
   ]
  },
  {
   "cell_type": "code",
   "execution_count": null,
   "metadata": {},
   "outputs": [],
   "source": [
    "prog_exec = qc.compile(gr_prog)\n",
    "ret = qc.run(prog_exec)\n",
    "ret_string = ''.join([str(q) for q in ret[0]])\n",
    "print(\"The searched string is: {}\".format(ret_string))"
   ]
  },
  {
   "cell_type": "markdown",
   "metadata": {},
   "source": [
    "### Visualization tools"
   ]
  },
  {
   "cell_type": "code",
   "execution_count": null,
   "metadata": {},
   "outputs": [],
   "source": [
    "import itertools\n",
    "import numpy as np  \n",
    "import matplotlib.pyplot as plt\n",
    "%matplotlib inline\n",
    "\n",
    "def plot_state_histogram(ret):\n",
    "    n_trials, n_qubits = ret.shape\n",
    "    # Get all combinatations of n_qubits state and assign zero prob to them\n",
    "    all_states = {state: 0 for state in reversed(list(itertools.product([0, 1], repeat=n_qubits)))}\n",
    "    # Calculate frequencies for measured state\n",
    "    unique, counts = np.unique(ret, return_counts=True, axis=0)  \n",
    "    measured_states = {tuple(state): counts[i] / n_trials for i, state in enumerate(unique)}\n",
    "    # Update with frequencies\n",
    "    all_states.update(measured_states)\n",
    "    # Labels\n",
    "    labels = ['| ' + ''.join([str(i) for i in state]) + ' >' for state in all_states.keys()]\n",
    "    # Plot\n",
    "    n = len(all_states.keys())\n",
    "    plt.barh(range(n), list(all_states.values()), tick_label=labels)\n",
    "    plt.show()"
   ]
  },
  {
   "cell_type": "markdown",
   "metadata": {},
   "source": [
    "### Compile and run (multiple times)"
   ]
  },
  {
   "cell_type": "code",
   "execution_count": null,
   "metadata": {},
   "outputs": [],
   "source": [
    "gr_prog.wrap_in_numshots_loop(100)\n",
    "prog_exec = qc.compile(gr_prog)\n",
    "ret = qc.run(prog_exec)\n",
    "plot_state_histogram(ret)"
   ]
  }
 ],
 "metadata": {
  "kernelspec": {
   "display_name": "Python 3",
   "language": "python",
   "name": "python3"
  },
  "language_info": {
   "codemirror_mode": {
    "name": "ipython",
    "version": 3
   },
   "file_extension": ".py",
   "mimetype": "text/x-python",
   "name": "python",
   "nbconvert_exporter": "python",
   "pygments_lexer": "ipython3",
   "version": "3.6.1"
  }
 },
 "nbformat": 4,
 "nbformat_minor": 2
}
