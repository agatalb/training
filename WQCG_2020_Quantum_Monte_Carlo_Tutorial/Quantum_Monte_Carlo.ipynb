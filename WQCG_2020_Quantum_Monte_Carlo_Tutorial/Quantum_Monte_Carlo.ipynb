{
 "cells": [
  {
   "cell_type": "markdown",
   "metadata": {},
   "source": [
    "# Financial Option Pricing with Quantum Computing\n",
    "This notebook is a part of the [presentation](https://github.com/dawidkopczyk/training/blob/master/WQCG_2020_Quantum_Monte_Carlo_Tutorial/WQCG_2020_Quantum_Monte_Carlo.pdf) on 25th May 2020 at Warsaw Quantum Computing Group meeting by Dawid Kopczyk. \n",
    "\n",
    "The notebook is divided into three sections: \n",
    "- Example: Black-Scholes\n",
    "- Example: Monte Carlo method\n",
    "- Example: Quantum Algorithm for Monte Carlo"
   ]
  },
  {
   "cell_type": "code",
   "execution_count": 1,
   "metadata": {},
   "outputs": [],
   "source": [
    "import numpy as np\n",
    "import matplotlib.pyplot as plt\n",
    "from scipy.stats import norm\n",
    "import seaborn as sns\n",
    "%matplotlib inline"
   ]
  },
  {
   "cell_type": "markdown",
   "metadata": {},
   "source": [
    " ## Example: Black-Scholes\n",
    " In this example we will calculate a price of European call option at $t=0$. \n",
    " \n",
    " Firstly, let's calculate a payoff for European call option at time T."
   ]
  },
  {
   "cell_type": "code",
   "execution_count": 2,
   "metadata": {},
   "outputs": [
    {
     "data": {
      "image/png": "[encoded data removed]",
      "text/plain": [
       "<Figure size 432x288 with 1 Axes>"
      ]
     },
     "metadata": {
      "needs_background": "light"
     },
     "output_type": "display_data"
    }
   ],
   "source": [
    "# Generate payoff values (C) for stock price (S) at time T\n",
    "K = 2\n",
    "S = np.arange(0,6)\n",
    "C = np.maximum(0, S - K)\n",
    "\n",
    "# Plot payoff function\n",
    "plt.plot(S, C, 'ro-')\n",
    "plt.grid()\n",
    "plt.title('Payoff Function', size=15)\n",
    "plt.xlabel('Stock Price at T', size=15)\n",
    "plt.ylabel('Payoff', size=15)\n",
    "plt.xticks(S, size=15, rotation=90)\n",
    "plt.yticks(size=15)\n",
    "plt.show()"
   ]
  },
  {
   "cell_type": "markdown",
   "metadata": {},
   "source": [
    "We define a function `euro_vanilla_call` calculating the price $\\mathbb{E}(C_t)$ of an European call option at time $t$ using Black-Scholes model."
   ]
  },
  {
   "cell_type": "code",
   "execution_count": 3,
   "metadata": {},
   "outputs": [],
   "source": [
    "def euro_vanilla_call(S_t, K, T, r, sigma, t=0):\n",
    "    \n",
    "    # S_0: stock price at t=0\n",
    "    # K: strike price\n",
    "    # T: time to maturity from t=0\n",
    "    # r: interest rate\n",
    "    # sigma: volatility of underlying asset\n",
    "    \n",
    "    d1 = (np.log(S_t / K) + (r + 0.5 * sigma ** 2) * (T-t)) / (sigma * np.sqrt(T-t))\n",
    "    d2 = d1 - sigma * np.sqrt(T-t)\n",
    "    \n",
    "    C = (S_t * norm.cdf(d1, 0.0, 1.0) - K * np.exp(-r * (T-t)) * norm.cdf(d2, 0.0, 1.0))\n",
    "    \n",
    "    return C"
   ]
  },
  {
   "cell_type": "markdown",
   "metadata": {},
   "source": [
    "The price of an option with strike price $K=2$, the initial stock price at $t=0$ is 1.5 and the time to maturity is 1 year. The volatility $\\sigma$ is assumed to be 0.25."
   ]
  },
  {
   "cell_type": "code",
   "execution_count": 4,
   "metadata": {},
   "outputs": [
    {
     "name": "stdout",
     "output_type": "stream",
     "text": [
      "The price of european call option E(C_0) = 0.0384\n"
     ]
    }
   ],
   "source": [
    "S_0 = 1.5\n",
    "K = 2\n",
    "T = 1\n",
    "r = 0.05\n",
    "sigma = 0.25\n",
    "\n",
    "C_black_scholes = euro_vanilla_call(S_0, K, T, r, sigma)\n",
    "print('The price of european call option E(C_0) = {:.4f}'.format(C_black_scholes))"
   ]
  },
  {
   "cell_type": "markdown",
   "metadata": {},
   "source": [
    "## Example: Monte Carlo method\n",
    "\n",
    "In this example, we will show that the Monte-Carlo method can recover Black Scholes result. \n",
    "\n",
    "Firstly, we define a function `generate_asset_price` generating a stock price at $T$. Stock prices follows the log-normal distribution:\n",
    "$$S_T=S_t e^{(r−\\frac{1}{2}\\sigma^2)(T−t)+\\sigma \\sqrt{T−t}\\epsilon}$$\n",
    "where $\\epsilon \\sim N(0,1)$."
   ]
  },
  {
   "cell_type": "code",
   "execution_count": 5,
   "metadata": {},
   "outputs": [],
   "source": [
    "def generate_asset_price(S_t, T, r, sigma, t=0):\n",
    "    return S_t * np.exp((r - 0.5 * sigma**2) * (T-t) + sigma * np.sqrt(T-t) * norm.rvs(0, 1.0))"
   ]
  },
  {
   "cell_type": "markdown",
   "metadata": {},
   "source": [
    "We generate $N$ scenarios of stock prices at maturity $T$: $(S_T^{(1)}, S_T^{(2)}, \\cdots, S_T^{(N)})$"
   ]
  },
  {
   "cell_type": "code",
   "execution_count": 6,
   "metadata": {},
   "outputs": [
    {
     "data": {
      "text/plain": [
       "<matplotlib.axes._subplots.AxesSubplot at 0x7fb96ae27cd0>"
      ]
     },
     "execution_count": 6,
     "metadata": {},
     "output_type": "execute_result"
    },
    {
     "data": {
      "image/png": "[encoded data removed]",
      "text/plain": [
       "<Figure size 432x288 with 1 Axes>"
      ]
     },
     "metadata": {
      "needs_background": "light"
     },
     "output_type": "display_data"
    }
   ],
   "source": [
    "N = 10000\n",
    "\n",
    "scenarios_S = []\n",
    "for i in range(N):\n",
    "    scenarios_S.append(generate_asset_price(S_0, T, r, sigma))\n",
    "    \n",
    "# Plot probability distribution\n",
    "sns.distplot(scenarios_S, kde=False)"
   ]
  },
  {
   "cell_type": "markdown",
   "metadata": {},
   "source": [
    "And we plug in the generated stock price scenarios $(S_T^{(1)}, S_T^{(2)}, \\cdots, S_T^{(N)})$\n",
    "to a formula calculating price of an option: \n",
    "$$E(C_t)=e^{r(T-t)}\\mathbb{E}(\\max{(S_T-K,0))}$$"
   ]
  },
  {
   "cell_type": "code",
   "execution_count": 7,
   "metadata": {},
   "outputs": [
    {
     "data": {
      "text/html": [
       "<div>\n",
       "<style scoped>\n",
       "    .dataframe tbody tr th:only-of-type {\n",
       "        vertical-align: middle;\n",
       "    }\n",
       "\n",
       "    .dataframe tbody tr th {\n",
       "        vertical-align: top;\n",
       "    }\n",
       "\n",
       "    .dataframe thead th {\n",
       "        text-align: right;\n",
       "    }\n",
       "</style>\n",
       "<table border=\"1\" class=\"dataframe\">\n",
       "  <thead>\n",
       "    <tr style=\"text-align: right;\">\n",
       "      <th></th>\n",
       "      <th>Spot Price</th>\n",
       "      <th>Strike</th>\n",
       "      <th>Option Price</th>\n",
       "    </tr>\n",
       "  </thead>\n",
       "  <tbody>\n",
       "    <tr>\n",
       "      <th>0</th>\n",
       "      <td>1.437001</td>\n",
       "      <td>2.0</td>\n",
       "      <td>0.000000</td>\n",
       "    </tr>\n",
       "    <tr>\n",
       "      <th>1</th>\n",
       "      <td>1.278771</td>\n",
       "      <td>2.0</td>\n",
       "      <td>0.000000</td>\n",
       "    </tr>\n",
       "    <tr>\n",
       "      <th>2</th>\n",
       "      <td>1.540620</td>\n",
       "      <td>2.0</td>\n",
       "      <td>0.000000</td>\n",
       "    </tr>\n",
       "    <tr>\n",
       "      <th>3</th>\n",
       "      <td>1.613926</td>\n",
       "      <td>2.0</td>\n",
       "      <td>0.000000</td>\n",
       "    </tr>\n",
       "    <tr>\n",
       "      <th>4</th>\n",
       "      <td>0.986569</td>\n",
       "      <td>2.0</td>\n",
       "      <td>0.000000</td>\n",
       "    </tr>\n",
       "    <tr>\n",
       "      <th>5</th>\n",
       "      <td>1.744882</td>\n",
       "      <td>2.0</td>\n",
       "      <td>0.000000</td>\n",
       "    </tr>\n",
       "    <tr>\n",
       "      <th>6</th>\n",
       "      <td>2.404447</td>\n",
       "      <td>2.0</td>\n",
       "      <td>0.384722</td>\n",
       "    </tr>\n",
       "    <tr>\n",
       "      <th>7</th>\n",
       "      <td>1.818749</td>\n",
       "      <td>2.0</td>\n",
       "      <td>0.000000</td>\n",
       "    </tr>\n",
       "    <tr>\n",
       "      <th>8</th>\n",
       "      <td>1.732022</td>\n",
       "      <td>2.0</td>\n",
       "      <td>0.000000</td>\n",
       "    </tr>\n",
       "    <tr>\n",
       "      <th>9</th>\n",
       "      <td>1.125596</td>\n",
       "      <td>2.0</td>\n",
       "      <td>0.000000</td>\n",
       "    </tr>\n",
       "  </tbody>\n",
       "</table>\n",
       "</div>"
      ],
      "text/plain": [
       "   Spot Price  Strike  Option Price\n",
       "0    1.437001     2.0      0.000000\n",
       "1    1.278771     2.0      0.000000\n",
       "2    1.540620     2.0      0.000000\n",
       "3    1.613926     2.0      0.000000\n",
       "4    0.986569     2.0      0.000000\n",
       "5    1.744882     2.0      0.000000\n",
       "6    2.404447     2.0      0.384722\n",
       "7    1.818749     2.0      0.000000\n",
       "8    1.732022     2.0      0.000000\n",
       "9    1.125596     2.0      0.000000"
      ]
     },
     "metadata": {},
     "output_type": "display_data"
    },
    {
     "data": {
      "text/plain": [
       "<matplotlib.axes._subplots.AxesSubplot at 0x7fb96aca4b50>"
      ]
     },
     "execution_count": 7,
     "metadata": {},
     "output_type": "execute_result"
    },
    {
     "data": {
      "image/png": "[encoded data removed]",
      "text/plain": [
       "<Figure size 432x288 with 1 Axes>"
      ]
     },
     "metadata": {
      "needs_background": "light"
     },
     "output_type": "display_data"
    }
   ],
   "source": [
    "scenarios_C = np.exp(-r*T) * np.maximum(np.array(scenarios_S)-K,0)\n",
    "\n",
    "import pandas as pd\n",
    "df = pd.DataFrame(np.stack([np.array(scenarios_S), np.repeat(K,N), scenarios_C]).T, \n",
    "                  columns=['Spot Price', 'Strike', 'Option Price'])\n",
    "display(df.head(10))\n",
    "\n",
    "sns.distplot(scenarios_C, kde=False)"
   ]
  },
  {
   "cell_type": "code",
   "execution_count": 8,
   "metadata": {},
   "outputs": [
    {
     "name": "stdout",
     "output_type": "stream",
     "text": [
      "The price of european call option calculated with Black Schloes = 0.0384\n",
      "The price of european call option calculated with Monte Carlo = 0.0405\n"
     ]
    }
   ],
   "source": [
    "C_monte_carlo = np.mean(scenarios_C)\n",
    "print('The price of european call option calculated with Black Schloes = {:.4f}'.format(C_black_scholes))\n",
    "print('The price of european call option calculated with Monte Carlo = {:.4f}'.format(C_monte_carlo))"
   ]
  },
  {
   "cell_type": "markdown",
   "metadata": {},
   "source": [
    "Monte Carlo method allows us to generate option prices when not only $S$ is random variable, but also $r$, $\\sigma$ can be stochatic processes, even with correlation between them (it is realistic to assume that equity prices will be highly correlated to interest rates). \n",
    "\n",
    "Furthermore, log-normal distribution of stock prices was used only to be comparable with Black-Scholes. With Monte-Carlo we can use arbitrary probabilty distributions. "
   ]
  },
  {
   "cell_type": "markdown",
   "metadata": {},
   "source": [
    "## Example: Quantum Algortihm for Monte Carlo\n",
    "In this section, we present how to run quantum algorithm for pricing financial option. We will use Qiskit SDK to simulate execution of algorithm on quantum computer + Qiskit already contains the algorithms required for this task."
   ]
  },
  {
   "cell_type": "code",
   "execution_count": 9,
   "metadata": {},
   "outputs": [],
   "source": [
    "# Importing standard Qiskit libraries and configuring account\n",
    "from qiskit import QuantumCircuit, execute, BasicAer, Aer, IBMQ\n",
    "from qiskit.aqua.algorithms import AmplitudeEstimation\n",
    "from qiskit.finance.components.uncertainty_problems import EuropeanCallExpectedValue\n",
    "from qiskit.aqua.components.uncertainty_models import LogNormalDistribution\n",
    "# Loading your IBM Q account(s)\n",
    "provider = IBMQ.load_account()"
   ]
  },
  {
   "cell_type": "markdown",
   "metadata": {},
   "source": [
    "Firstly, we will generate unitary $\\mathcal{A}$, which will build us an uncertainty model i.e. we will encode log-normal distribution of stock prices into a quantum state:\n",
    "$$\\mathcal{A}|0\\rangle^n=\\sum_{i=0}^{2^n-1}\\sqrt{p_i}|i\\rangle$$\n",
    "so that $|i\\rangle$ are realizations of $S_T$ mapped and discretized to $i=\\{0,1,\\dots,2^n-1\\}$. \n",
    "\n",
    "[Grover and Rudolph (2002)](https://arxiv.org/abs/quant-ph/0208112) showed that $\\mathcal{A}$ can be constructed. The best known upper bound for the number of gates constructing $\\mathcal{A}$ is $\\mathcal{O}(2^n)$, however approximations with polynominal complexity in $n$ are possible for many distrubitions for exaple log-concave distributions (log-normal is log-concave). The distributions can be also loaded using qGAN ([quantum Generative Adverserial Networks](https://arxiv.org/abs/1904.00043)). \n",
    "\n",
    "**Reminder**\n",
    "$$S_T=S_t e^{(r−\\frac{1}{2}\\sigma^2)(T−t)+\\sigma \\sqrt{T−t}\\epsilon}$$\n",
    "where $\\epsilon \\sim N(0,1)$. From that we conclude that for $t=0$: \n",
    "$$log(S_T) \\sim N\\left((r−\\frac{1}{2}\\sigma^2)T+\\log(S_0), \\sigma \\sqrt{T}\\right)$$"
   ]
  },
  {
   "cell_type": "code",
   "execution_count": 10,
   "metadata": {},
   "outputs": [],
   "source": [
    "# Number of qubits to represent the uncertainty\n",
    "n = 4\n",
    "\n",
    "# The same option characteristics as above\n",
    "S_0 = 1.5\n",
    "K = 2\n",
    "T = 1\n",
    "r = 0.05\n",
    "sigma = 0.25\n",
    "\n",
    "# Resulting normal mu and normal sigma from stock price log-normal distribution\n",
    "normal_mu = ((r - 0.5 * sigma**2) * T + np.log(S_0))\n",
    "normal_sigma = sigma * np.sqrt(T) \n",
    "\n",
    "# Lowest and highest value considered for the stock price; \n",
    "# in between, an equidistant discretization is considered.\n",
    "mean = np.exp(normal_mu + 0.5 * normal_sigma**2)\n",
    "variance = (np.exp(normal_sigma**2) - 1) * np.exp(2*normal_mu + normal_sigma**2)\n",
    "stddev = np.sqrt(variance)\n",
    "\n",
    "low = np.maximum(0, mean - 4*stddev)\n",
    "high = mean + 4*stddev\n",
    "\n",
    "# Construct circuit factory A for uncertainty model\n",
    "circuit_A = LogNormalDistribution(n, \n",
    "                                  mu=normal_mu, sigma=normal_sigma,  \n",
    "                                  low=low, high=high)"
   ]
  },
  {
   "cell_type": "code",
   "execution_count": 11,
   "metadata": {},
   "outputs": [
    {
     "name": "stdout",
     "output_type": "stream",
     "text": [
      "The number of considered stock prices: 2^4=16. The stock prices are in range [0.0000, 3.1788].\n"
     ]
    }
   ],
   "source": [
    "S = circuit_A.values\n",
    "prob = circuit_A.probabilities\n",
    "\n",
    "print('The number of considered stock prices: 2^{}={}. The stock prices are '\n",
    "      'in range [{:.4f}, {:.4f}].'.format(n, S.size, low, high))"
   ]
  },
  {
   "cell_type": "markdown",
   "metadata": {},
   "source": [
    "Since we use the same characteristics of stock prices, the distriubtion of stocks prices is very similar the one plotted in *Example: Monte Carlo method* section."
   ]
  },
  {
   "cell_type": "code",
   "execution_count": 12,
   "metadata": {},
   "outputs": [
    {
     "data": {
      "image/png": "[encoded data removed]",
      "text/plain": [
       "<Figure size 432x288 with 1 Axes>"
      ]
     },
     "metadata": {
      "needs_background": "light"
     },
     "output_type": "display_data"
    }
   ],
   "source": [
    "# Plot probability distribution\n",
    "plt.bar(S, prob, width=0.2)\n",
    "plt.xticks(S, size=15, rotation=90)\n",
    "plt.yticks(size=15)\n",
    "plt.grid()\n",
    "plt.xlabel('Stock Price at Maturity $T$ (\\$)', size=15)\n",
    "plt.ylabel('Probability ($\\%$)', size=15)\n",
    "plt.show()"
   ]
  },
  {
   "cell_type": "code",
   "execution_count": 18,
   "metadata": {},
   "outputs": [
    {
     "data": {
      "image/png": "[encoded data removed]",
      "text/plain": [
       "<Figure size 432x288 with 1 Axes>"
      ]
     },
     "metadata": {
      "needs_background": "light"
     },
     "output_type": "display_data"
    }
   ],
   "source": [
    "# Plot payoff function (evaluated on the grid of the uncertainty model)\n",
    "C = np.maximum(0, S - K)\n",
    "plt.plot(S, C, 'ro-')\n",
    "plt.grid()\n",
    "plt.title('Payoff Function', size=15)\n",
    "plt.xlabel('Spot Price', size=15)\n",
    "plt.ylabel('Payoff at T', size=15)\n",
    "plt.xticks(S, size=15, rotation=90)\n",
    "plt.yticks(size=15)\n",
    "plt.show()"
   ]
  },
  {
   "cell_type": "markdown",
   "metadata": {},
   "source": [
    "The uncertainty model gives us a slightly different option price than one from Black-Scholes model or Monte-Carlo method - this is due to the **discretization error**. "
   ]
  },
  {
   "cell_type": "code",
   "execution_count": 20,
   "metadata": {},
   "outputs": [
    {
     "name": "stdout",
     "output_type": "stream",
     "text": [
      "The price of european call option according to uncertainty model = 0.0376\n"
     ]
    }
   ],
   "source": [
    "# Evaluate expected option price according to uncertainty model \n",
    "C_uncertainty_model = np.exp(-r*T) * np.dot(prob, C)\n",
    "print('The price of european call option according to '\n",
    "      'uncertainty model = {:.4f}'.format(C_uncertainty_model))"
   ]
  },
  {
   "cell_type": "markdown",
   "metadata": {},
   "source": [
    "We construct a unitary $\\mathcal{R}$ which will encode payoff function and perform the rotation of an ancilla qubit. This is done so that we are able to retrieve expected value $\\mathbb{E}(C)$ from probabilty of measuring ancilla qubit in $|1\\rangle$\n",
    "\n",
    "$$\\sum_{i=0}^{2^n-1}\\sqrt{p_i}\\sqrt{1-f(i)}|i\\rangle|0\\rangle+\\sqrt{p_i}\\sqrt{f(i)}|i\\rangle|1\\rangle$$\n",
    "$$\\mathbb{E}(C)=\\sum_{i=0}^{2^n-1} p_i f(i)$$\n",
    "where $f(i)$ is payoff function $v(S_T)$  normalized to output values in range $[0,1]$ with:\n",
    "$$f(i)=\\frac{v^*(i)-v_{min}^*}{v^*_{max}-v^*_{min}}-1$$\n",
    "and $v^*(i)$ is the payoff function after mapping $S_T$ to $i$.\n",
    "\n",
    "The payoff function is non-linear, however it consists of two parts:\n",
    "- zero as long as $S_T \\leq K$,\n",
    "- linear part when $S_T > K$.\n",
    "\n",
    "We can either find a quantum circuit as a binary approximation of payoff function (basic arithmetic\n",
    "operations such as multiplication, max, etc can be represented by a set of $\\textit{AND}$ gates and controlled Y rotations, for more details refer to [Quantum networks for elementary arithmetic operations (1996)](https://journals.aps.org/pra/abstract/10.1103/PhysRevA.54.147)).\n",
    "\n",
    "Alternatively, we can use the **approximation** presented in paper [Quantum Risk Analysis](https://arxiv.org/abs/1806.06893), which relies on a nice trick. \n",
    "\n",
    "We can easily construct an operator $\\mathcal{R}$ that acts as\n",
    "$$\\mathcal{R}\\big|x\\rangle \\big|0\\rangle = \\big|x\\rangle \\left( \\cos(a*x+b) \\big|0\\rangle + \\sin(a*x+b) \\big|1\\rangle \\right),$$\n",
    "using controlled Y-rotations.\n",
    "\n",
    "Eventually, we are interested in the probability of measuring $\\big|1\\rangle$ in the last qubit, which corresponds to $P=\\sin^2(a*x+b)$. Please note that $\\sin^2(y + \\frac{\\pi}{4}) \\approx y + \\frac{1}{2}$ for small $|y|$. Thus, for a given approximation scaling factor $c_{approx} \\in [0, 1]$ and $x \\in [0, 1]$ we consider\n",
    "$$ P=\\sin^2\\left( \\frac{\\pi}{2} c_{approx} \\left( x - \\frac{1}{2} \\right) + \\frac{\\pi}{4} \\right) \\approx \\frac{\\pi}{2} c_{approx} \\left( x - \\frac{1}{2} \\right) + \\frac{1}{2} $$\n",
    "for small $c_{approx}$.\n",
    "\n",
    "The approximation of $v(S_T)=max(S_T-K,0)$ uses a comparator, that flips an ancilla qubit from $\\big|0\\rangle$ to $\\big|1\\rangle$ if $S_T \\geq K$, and this ancilla is used to control the linear part of the payoff function. The linear part $x=S_T-K$ is then recovered from measured probablity $P=\\sin^2( \\pi/2 * c_{approx} * ( x - 1/2 ) + \\pi/4)$ using the approximation above:\n",
    "$$x=\\frac{2P-1}{\\pi c_{approx}}+\\frac{1}{2}$$\n",
    "\n",
    "The smaller we choose $c_{approx}$, the better the approximation. However, since we are then estimating a property scaled by $c_{approx}$, the number of evaluation qubits $m$ needs to be adjusted accordingly.\n",
    "\n",
    "The `EuropeanCallExpectedValue` also prepares $\\mathcal{Q}$ (described in the presentation) operator so that the circuit factory can be used directly in quantum phase estimation.  "
   ]
  },
  {
   "cell_type": "code",
   "execution_count": 26,
   "metadata": {},
   "outputs": [],
   "source": [
    "# Set the approximation scaling for the payoff function\n",
    "c_approx = 0.26\n",
    "\n",
    "# Construct circuit factory for payoff function\n",
    "european_call = EuropeanCallExpectedValue(\n",
    "    circuit_A,\n",
    "    strike_price=K,\n",
    "    c_approx=c_approx\n",
    ")"
   ]
  },
  {
   "cell_type": "markdown",
   "metadata": {},
   "source": [
    "Now, we will use [Quantum Phase Estimation](http://dkopczyk.quantee.co.uk/qpe/) algorithm given unitary $\\mathcal{Q}$ represented by `european_call` circuit factory to find eigenvalue $e^{\\pm i\\theta}$ of $\\mathcal{Q}$. Having $\\theta$ we can easily get value of $\\mathbb{E}(f(i))$ from relation $1-2\\mathbb{E}(f(i))=\\cos(\\theta)$ and then unmap from $f(i)$ to have $v(S_T)$. This is explained in details in the presentation.\n",
    "\n",
    "The value of `m` specifies the number of evaluation qubits which impacts floating accuracy of the result."
   ]
  },
  {
   "cell_type": "code",
   "execution_count": 27,
   "metadata": {},
   "outputs": [],
   "source": [
    "# Set number of evaluation qubits (2^m = quantum samples)\n",
    "m = 4\n",
    "\n",
    "# Construct amplitude estimation \n",
    "ae = AmplitudeEstimation(m, european_call)"
   ]
  },
  {
   "cell_type": "markdown",
   "metadata": {},
   "source": [
    "We run the algorithm on `statevector_simulator` - simulator of quantum computer without noise. You can play around with noise models using `qasm_simulator`."
   ]
  },
  {
   "cell_type": "code",
   "execution_count": 28,
   "metadata": {},
   "outputs": [],
   "source": [
    "# result = ae.run(quantum_instance=BasicAer.get_backend('qasm_simulator'), shots=100)\n",
    "result = ae.run(quantum_instance=BasicAer.get_backend('statevector_simulator'))"
   ]
  },
  {
   "cell_type": "code",
   "execution_count": 29,
   "metadata": {},
   "outputs": [
    {
     "data": {
      "text/plain": [
       "{'statevector': array([[0.+0.j, 0.+0.j, 0.+0.j, ..., 0.+0.j, 0.+0.j, 0.+0.j]]),\n",
       " 'shots': 1,\n",
       " 'a_items': [(0.0, 0.00027858081832581543),\n",
       "  (0.0380602, 0.0007508216799240212),\n",
       "  (0.1464466, 0.0022440489932793674),\n",
       "  (0.3086583, 0.9925521217828),\n",
       "  (0.5, 0.002652369482474273),\n",
       "  (0.6913417, 0.0007207840345623173),\n",
       "  (0.8535534, 0.0003870557513798476),\n",
       "  (0.9619398, 0.00028467349106353125),\n",
       "  (1.0, 0.0001295439662486477)],\n",
       " 'y_items': [(0, 0.00027858081832581543),\n",
       "  (1, 0.00037541083996146585),\n",
       "  (2, 0.0011220244966363613),\n",
       "  (3, 0.4962760608914103),\n",
       "  (4, 0.0013261847412327178),\n",
       "  (5, 0.0003603920172804867),\n",
       "  (6, 0.000193527875689709),\n",
       "  (7, 0.00014233674553171998),\n",
       "  (8, 0.0001295439662486477),\n",
       "  (9, 0.00014233674553181127),\n",
       "  (10, 0.00019352787569013857),\n",
       "  (11, 0.0003603920172818306),\n",
       "  (12, 0.0013261847412415551),\n",
       "  (13, 0.4962760608913896),\n",
       "  (14, 0.0011220244966430061),\n",
       "  (15, 0.0003754108399625554)],\n",
       " 'mapped_values': [-0.9209153914725503,\n",
       "  -0.8024209987171497,\n",
       "  -0.46497714264324685,\n",
       "  0.04004324320131595,\n",
       "  0.635755261274948,\n",
       "  1.23146727934858,\n",
       "  1.7364876651931427,\n",
       "  2.073931521267046,\n",
       "  2.1924259140224462],\n",
       " 'values': [0.0,\n",
       "  0.0380602,\n",
       "  0.1464466,\n",
       "  0.3086583,\n",
       "  0.5,\n",
       "  0.6913417,\n",
       "  0.8535534,\n",
       "  0.9619398,\n",
       "  1.0],\n",
       " 'y_values': [0, 1, 2, 3, 4, 5, 6, 7, 8, 9, 10, 11, 12, 13, 14, 15],\n",
       " 'probabilities': [0.00027858081832581543,\n",
       "  0.0007508216799240212,\n",
       "  0.0022440489932793674,\n",
       "  0.9925521217828,\n",
       "  0.002652369482474273,\n",
       "  0.0007207840345623173,\n",
       "  0.0003870557513798476,\n",
       "  0.00028467349106353125,\n",
       "  0.0001295439662486477],\n",
       " 'mapped_items': [(-0.9209153914725503, 0.00027858081832581543),\n",
       "  (-0.8024209987171497, 0.0007508216799240212),\n",
       "  (-0.46497714264324685, 0.0022440489932793674),\n",
       "  (0.04004324320131595, 0.9925521217828),\n",
       "  (0.635755261274948, 0.002652369482474273),\n",
       "  (1.23146727934858, 0.0007207840345623173),\n",
       "  (1.7364876651931427, 0.0003870557513798476),\n",
       "  (2.073931521267046, 0.00028467349106353125),\n",
       "  (2.1924259140224462, 0.0001295439662486477)],\n",
       " 'value': 0.3086583,\n",
       " 'estimation': 0.04004324320131595,\n",
       " 'max_probability': 0.9925521217828,\n",
       " 'num_oracle_queries': 15,\n",
       " 'ml_value': 0.31741264655126855,\n",
       " 'mle': 0.06729851192199801,\n",
       " '95%_confidence_interval': [0.06729851192199801, 0.06729851192199801]}"
      ]
     },
     "execution_count": 29,
     "metadata": {},
     "output_type": "execute_result"
    }
   ],
   "source": [
    "result"
   ]
  },
  {
   "cell_type": "code",
   "execution_count": 30,
   "metadata": {},
   "outputs": [
    {
     "data": {
      "image/png": "[encoded data removed]",
      "text/plain": [
       "<Figure size 432x288 with 1 Axes>"
      ]
     },
     "metadata": {
      "needs_background": "light"
     },
     "output_type": "display_data"
    }
   ],
   "source": [
    "# Plot estimated values for option price (after re-scaling and reversing the c_approx-transformation)\n",
    "plt.bar(np.exp(-r*T) * np.array(result['mapped_values']), result['probabilities'], \n",
    "        width=1/len(result['probabilities']))\n",
    "plt.plot([C_uncertainty_model, C_uncertainty_model], [0,1], 'r--', linewidth=2)\n",
    "plt.xticks(size=15)\n",
    "plt.yticks([0, 0.25, 0.5, 0.75, 1], size=15)\n",
    "plt.title('Estimated Option Price', size=15)\n",
    "plt.ylabel('Probability', size=15)\n",
    "plt.ylim((0,1))\n",
    "plt.grid()\n",
    "plt.show()"
   ]
  },
  {
   "cell_type": "code",
   "execution_count": 31,
   "metadata": {},
   "outputs": [
    {
     "name": "stdout",
     "output_type": "stream",
     "text": [
      "The price of european call option according to uncertainty model = 0.0376\n",
      "The price of european call option according to quantum algorithm = 0.0381. Drawed with probabilty: 99.26%\n"
     ]
    }
   ],
   "source": [
    "C_quantum_algo = np.exp(-r*T) * result['estimation']\n",
    "print('The price of european call option according to '\n",
    "      'uncertainty model = {:.4f}'.format(C_uncertainty_model))\n",
    "print('The price of european call option according to '\n",
    "      'quantum algorithm = {:.4f}. Drawed with probabilty: {:.2f}%'.format(C_quantum_algo, \n",
    "                                                                           100*result['max_probability']))"
   ]
  }
 ],
 "metadata": {
  "kernelspec": {
   "display_name": "Python 3",
   "language": "python",
   "name": "python3"
  },
  "language_info": {
   "codemirror_mode": {
    "name": "ipython",
    "version": 3
   },
   "file_extension": ".py",
   "mimetype": "text/x-python",
   "name": "python",
   "nbconvert_exporter": "python",
   "pygments_lexer": "ipython3",
   "version": "3.7.6"
  }
 },
 "nbformat": 4,
 "nbformat_minor": 4
}
